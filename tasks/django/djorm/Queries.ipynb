{
 "cells": [
  {
   "cell_type": "code",
   "execution_count": 1,
   "id": "1b9bb1f2",
   "metadata": {},
   "outputs": [],
   "source": [
    "import os\n",
    "import django\n",
    "os.environ.setdefault('DJANGO_SETTINGS_MODULE', 'djorm.settings')\n",
    "os.environ[\"DJANGO_ALLOW_ASYNC_UNSAFE\"] = \"true\"\n",
    "django.setup()"
   ]
  },
  {
   "cell_type": "code",
   "execution_count": 2,
   "id": "fb036dcf",
   "metadata": {},
   "outputs": [],
   "source": [
    "from masters.models import Blog\n",
    "\n",
    "\n",
    "# saving a model\n",
    "b = Blog(name='Med Blog', tagline='All the latest Medicine news.')\n",
    "b.save()"
   ]
  },
  {
   "cell_type": "code",
   "execution_count": 3,
   "id": "8489587d",
   "metadata": {},
   "outputs": [],
   "source": [
    "#blogs = Blog.objects.all().values()\n",
    "blogs = Blog.objects.all()[1:2].values()"
   ]
  },
  {
   "cell_type": "code",
   "execution_count": 4,
   "id": "f0e42cd8",
   "metadata": {},
   "outputs": [
    {
     "name": "stdout",
     "output_type": "stream",
     "text": [
      "{'id': 2, 'name': 'Med Blog', 'tagline': 'All the latest Medicine news.'}\n",
      "\n"
     ]
    }
   ],
   "source": [
    "for blog in blogs:\n",
    "    print(str(blog) + '\\n')"
   ]
  },
  {
   "cell_type": "code",
   "execution_count": null,
   "id": "33db7ee7",
   "metadata": {},
   "outputs": [],
   "source": []
  }
 ],
 "metadata": {
  "kernelspec": {
   "display_name": "Django Shell-Plus",
   "language": "python",
   "name": "django_extensions"
  },
  "language_info": {
   "codemirror_mode": {
    "name": "ipython",
    "version": 3
   },
   "file_extension": ".py",
   "mimetype": "text/x-python",
   "name": "python",
   "nbconvert_exporter": "python",
   "pygments_lexer": "ipython3",
   "version": "3.10.6"
  }
 },
 "nbformat": 4,
 "nbformat_minor": 5
}
