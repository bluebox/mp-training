{
 "cells": [
  {
   "cell_type": "code",
   "execution_count": 20,
   "id": "bccc3a1b",
   "metadata": {},
   "outputs": [
    {
     "name": "stdout",
     "output_type": "stream",
     "text": [
      "1 for update\n",
      "2 for display\n",
      "3 for search\n",
      "4 for delete\n",
      "5 for exit\n",
      "1\n",
      "enter contact namenik\n",
      "enter contact number123\n",
      "1 for update\n",
      "2 for display\n",
      "3 for search\n",
      "4 for delete\n",
      "5 for exit\n",
      "2\n",
      "nik : 123\n",
      "1 for update\n",
      "2 for display\n",
      "3 for search\n",
      "4 for delete\n",
      "5 for exit\n",
      "3\n",
      "enter contact namenik\n",
      "nik : 123\n",
      "1 for update\n",
      "2 for display\n",
      "3 for search\n",
      "4 for delete\n",
      "5 for exit\n",
      "4\n",
      "enter contact namenik\n",
      "1 for update\n",
      "2 for display\n",
      "3 for search\n",
      "4 for delete\n",
      "5 for exit\n",
      "5\n",
      "bye bye\n"
     ]
    }
   ],
   "source": [
    "pb ={}\n",
    "while True:\n",
    "    print( \"1 for update\")\n",
    "    print( \"2 for display\")\n",
    "    print( \"3 for search\")\n",
    "    print( \"4 for delete\")\n",
    "    print( \"5 for exit\")\n",
    "    inp=int(input())\n",
    "    if inp==1:\n",
    "        name=input(\"enter contact name\")\n",
    "        contact=int(input(\"enter contact number\"))\n",
    "        if name in pb.keys():\n",
    "            print(\"contact already exists\")\n",
    "        else:\n",
    "            pb.update({name:contact})\n",
    "    elif inp==2:\n",
    "        for i in pb:\n",
    "            print(i,\":\",pb[i])\n",
    "    elif inp==3:\n",
    "        name=input(\"enter contact name\")\n",
    "        if name in pb.keys():\n",
    "            print(name,\":\",pb[name])\n",
    "        else:\n",
    "            print(\"contact not found\")\n",
    "    elif inp==4:\n",
    "        name=input(\"enter contact name\")\n",
    "        if name in pb.keys():\n",
    "            del pb[name]\n",
    "        else:\n",
    "            print(\"contact not found\")\n",
    "    elif inp==5:\n",
    "        print(\"bye bye\")\n",
    "        break\n",
    "    else:\n",
    "        print(\"invalid input\")\n",
    "        continue"
   ]
  },
  {
   "cell_type": "code",
   "execution_count": null,
   "id": "4afaa3db",
   "metadata": {},
   "outputs": [],
   "source": []
  },
  {
   "cell_type": "code",
   "execution_count": null,
   "id": "0d585937",
   "metadata": {},
   "outputs": [],
   "source": []
  },
  {
   "cell_type": "code",
   "execution_count": null,
   "id": "43e3762f",
   "metadata": {},
   "outputs": [],
   "source": []
  }
 ],
 "metadata": {
  "kernelspec": {
   "display_name": "Python 3 (ipykernel)",
   "language": "python",
   "name": "python3"
  },
  "language_info": {
   "codemirror_mode": {
    "name": "ipython",
    "version": 3
   },
   "file_extension": ".py",
   "mimetype": "text/x-python",
   "name": "python",
   "nbconvert_exporter": "python",
   "pygments_lexer": "ipython3",
   "version": "3.8.10"
  }
 },
 "nbformat": 4,
 "nbformat_minor": 5
}
