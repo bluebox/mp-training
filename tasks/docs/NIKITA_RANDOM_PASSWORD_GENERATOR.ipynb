{
 "cells": [
  {
   "cell_type": "code",
   "execution_count": null,
   "id": "d610edf0",
   "metadata": {},
   "outputs": [
    {
     "name": "stdout",
     "output_type": "stream",
     "text": [
      "enter 1 to continue and 0 to leave1\n",
      "enter the length of the password6\n",
      "your password is 9hmytq\n"
     ]
    }
   ],
   "source": [
    "import random\n",
    "import string\n",
    "\n",
    "while True:\n",
    "    c=int(input(\"enter 1 to continue and 0 to leave\"))\n",
    "    if c==1:\n",
    "        length=(input(\"enter the length of the password\"))\n",
    "        if length.isnumeric()==True:\n",
    "            length=int(length)\n",
    "            if length>=5 and length<15:\n",
    "                res = ''.join(random.choices(string.ascii_uppercase +\n",
    "                             string.digits +string.ascii_lowercase+string.punctuation, k = length))\n",
    "                print(\"your password is\",res)\n",
    "            else:\n",
    "                print(\"improper length\")\n",
    "        else:\n",
    "            print(\"invalid input\")\n",
    "    elif c==0:\n",
    "        break\n",
    "    else:\n",
    "        print(\"please choose the correct option\")\n",
    "   "
   ]
  },
  {
   "cell_type": "code",
   "execution_count": null,
   "id": "432546eb",
   "metadata": {},
   "outputs": [],
   "source": []
  }
 ],
 "metadata": {
  "kernelspec": {
   "display_name": "Python 3 (ipykernel)",
   "language": "python",
   "name": "python3"
  },
  "language_info": {
   "codemirror_mode": {
    "name": "ipython",
    "version": 3
   },
   "file_extension": ".py",
   "mimetype": "text/x-python",
   "name": "python",
   "nbconvert_exporter": "python",
   "pygments_lexer": "ipython3",
   "version": "3.8.10"
  }
 },
 "nbformat": 4,
 "nbformat_minor": 5
}
