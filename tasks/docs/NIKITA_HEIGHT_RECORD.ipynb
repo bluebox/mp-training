{
 "cells": [
  {
   "cell_type": "code",
   "execution_count": null,
   "id": "daecbcda",
   "metadata": {},
   "outputs": [
    {
     "name": "stdout",
     "output_type": "stream",
     "text": [
      "\n",
      " press 1 for viewing the record\n",
      "press 2 for modifying the record\n",
      "press 3 for deleting an entry\n",
      "press 4 for searching an entry\n",
      "press 5 to enter a new student record\n",
      "press 6 to exit\n",
      "1\n",
      "Admin No. \t Name \t\t Height\n",
      "1 \t\t nikita \t 170\n",
      "2 \t\t sakshi \t 175\n",
      "3 \t\t aditya \t 180\n",
      "\n",
      " press 1 for viewing the record\n",
      "press 2 for modifying the record\n",
      "press 3 for deleting an entry\n",
      "press 4 for searching an entry\n",
      "press 5 to enter a new student record\n",
      "press 6 to exit\n",
      "2\n",
      "enter the admin number1\n",
      "enter the height160\n",
      "1\n",
      "\n",
      " press 1 for viewing the record\n",
      "press 2 for modifying the record\n",
      "press 3 for deleting an entry\n",
      "press 4 for searching an entry\n",
      "press 5 to enter a new student record\n",
      "press 6 to exit\n",
      "1\n",
      "Admin No. \t Name \t\t Height\n",
      "1 \t\t nikita \t 160\n",
      "2 \t\t sakshi \t 175\n",
      "3 \t\t aditya \t 180\n",
      "\n",
      " press 1 for viewing the record\n",
      "press 2 for modifying the record\n",
      "press 3 for deleting an entry\n",
      "press 4 for searching an entry\n",
      "press 5 to enter a new student record\n",
      "press 6 to exit\n"
     ]
    }
   ],
   "source": [
    "class student:\n",
    "    def __init__(self,admin_no,name,height):\n",
    "        self.admin_no=admin_no\n",
    "        self.name=name\n",
    "        self.height=height\n",
    "    \n",
    "    def show(self):\n",
    "        print(self.admin_no,\"\\t\\t\",self.name,\"\\t\",self.height)\n",
    "s1=student(1,\"nikita\",170)\n",
    "s2=student(2,\"sakshi\",175)\n",
    "s3=student(3,\"aditya\",180)\n",
    "s=[s1,s2,s3]\n",
    "class record:\n",
    "    def __init__(self):\n",
    "        pass\n",
    "    \n",
    "    def display(self):\n",
    "        print(\"Admin No. \\t Name \\t\\t Height\")\n",
    "        for i in range(len(s)):\n",
    "            s[i].show()\n",
    "        \n",
    "    def modify(self):\n",
    "        new=int(input(\"enter the admin number\"))\n",
    "        new_h=int(input(\"enter the height\"))\n",
    "        for i in range(len(s)):\n",
    "            if s[i].admin_no ==new:\n",
    "                s[i].height=new_h\n",
    "                break\n",
    "            else:\n",
    "                print(\"wrong student name\")\n",
    "                \n",
    "    def delete_entry(self):\n",
    "        new=int(input(\"enter the admin number of the student\"))\n",
    "        for i in range(len(s)):\n",
    "            if s[i].admin_no==new:\n",
    "                del s[i]\n",
    "                break\n",
    "            else:\n",
    "                print(\"student name does not exist in the record\")\n",
    "        \n",
    "    def search_height(self):\n",
    "        new=int(input(\"enter the name of the student\"))\n",
    "        for i in range(len(s)):\n",
    "            if s[i].admin_no==new:\n",
    "                print(s[i].height)\n",
    "                break\n",
    "            else:\n",
    "                print(\"wrong student name\")\n",
    "    def add_entry(self):\n",
    "        new=input(\"enter the admin number\")\n",
    "        n_name=input(\"enter the name of the student\")\n",
    "        n_height=int(input(\"enter the height of the student in centimeters\"))\n",
    "        for i in range(len(s)):\n",
    "            if new==s.admin_no:\n",
    "                print(\"record already exists\")\n",
    "            else:\n",
    "                new=student(new,n_name,n_height)\n",
    "                s.append(new)\n",
    "        \n",
    "school=record()\n",
    "while True:\n",
    "    print(\"\\n press 1 for viewing the record\")\n",
    "    print(\"press 2 for modifying the record\")\n",
    "    print(\"press 3 for deleting an entry\")\n",
    "    print(\"press 4 for searching an entry\")\n",
    "    print(\"press 5 to enter a new student record\")\n",
    "    print(\"press 6 to exit\")\n",
    "    c=int(input())\n",
    "    if c==1:\n",
    "        school.display()\n",
    "    elif c==2:\n",
    "        school.modify()\n",
    "    elif c==3:\n",
    "        school.delete_entry()\n",
    "    elif c==4:\n",
    "        school.search_height()\n",
    "    elif c==5:\n",
    "        school.add_entry()\n",
    "        \n",
    "    elif c==6:\n",
    "        print(\"thank you\")\n",
    "        break\n",
    "    else:\n",
    "        print(\"invalid input\")\n",
    "        \n",
    "                \n",
    "    "
   ]
  },
  {
   "cell_type": "code",
   "execution_count": 9,
   "id": "951b3d0b",
   "metadata": {},
   "outputs": [
    {
     "name": "stdout",
     "output_type": "stream",
     "text": [
      "enter the name of the studentnikita\n",
      "nikita\n"
     ]
    },
    {
     "ename": "ValueError",
     "evalue": "list.remove(x): x not in list",
     "output_type": "error",
     "traceback": [
      "\u001b[0;31m---------------------------------------------------------------------------\u001b[0m",
      "\u001b[0;31mValueError\u001b[0m                                Traceback (most recent call last)",
      "Input \u001b[0;32mIn [9]\u001b[0m, in \u001b[0;36m<cell line: 13>\u001b[0;34m()\u001b[0m\n\u001b[1;32m     14\u001b[0m \u001b[38;5;28;01mif\u001b[39;00m s[i]\u001b[38;5;241m.\u001b[39mname\u001b[38;5;241m==\u001b[39mnew:\n\u001b[1;32m     15\u001b[0m     \u001b[38;5;28mprint\u001b[39m(s[i]\u001b[38;5;241m.\u001b[39mname)\n\u001b[0;32m---> 16\u001b[0m     \u001b[43ms\u001b[49m\u001b[38;5;241;43m.\u001b[39;49m\u001b[43mremove\u001b[49m\u001b[43m(\u001b[49m\u001b[43mnew\u001b[49m\u001b[43m)\u001b[49m\n\u001b[1;32m     17\u001b[0m     \u001b[38;5;28;01mbreak\u001b[39;00m\n\u001b[1;32m     18\u001b[0m \u001b[38;5;28;01melse\u001b[39;00m:\n",
      "\u001b[0;31mValueError\u001b[0m: list.remove(x): x not in list"
     ]
    }
   ],
   "source": [
    "class student:\n",
    "    def __init__(self,name,height):\n",
    "        self.name=name\n",
    "        self.height=height\n",
    "    \n",
    "    def show(self):\n",
    "        print(self.name,\"\\t\",self.height)\n",
    "s1=student(\"nikita\",170)\n",
    "s2=student(\"sakshi\",175)\n",
    "s3=student(\"aditya\",180)\n",
    "s=[s1,s2,s3]\n",
    "new=input(\"enter the name of the student\")\n",
    "for i in range(len(s)):\n",
    "    if s[i].name==new:\n",
    "        print(s[i].name)\n",
    "        s.remove(new)\n",
    "        break\n",
    "    else:\n",
    "        print(\"student name does not exist in the record\")\n",
    "        "
   ]
  },
  {
   "cell_type": "code",
   "execution_count": 10,
   "id": "e1fb23d7",
   "metadata": {},
   "outputs": [
    {
     "name": "stdout",
     "output_type": "stream",
     "text": [
      "[2, 3]\n"
     ]
    }
   ],
   "source": [
    "l=[1,2,3]\n",
    "a=1\n",
    "l.remove(a)\n",
    "print(l)"
   ]
  },
  {
   "cell_type": "code",
   "execution_count": null,
   "id": "5370e5b8",
   "metadata": {},
   "outputs": [],
   "source": []
  }
 ],
 "metadata": {
  "kernelspec": {
   "display_name": "Python 3 (ipykernel)",
   "language": "python",
   "name": "python3"
  },
  "language_info": {
   "codemirror_mode": {
    "name": "ipython",
    "version": 3
   },
   "file_extension": ".py",
   "mimetype": "text/x-python",
   "name": "python",
   "nbconvert_exporter": "python",
   "pygments_lexer": "ipython3",
   "version": "3.8.10"
  }
 },
 "nbformat": 4,
 "nbformat_minor": 5
}
